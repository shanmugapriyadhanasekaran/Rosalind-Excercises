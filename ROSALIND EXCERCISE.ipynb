{
 "cells": [
  {
   "cell_type": "code",
   "execution_count": 2,
   "id": "ef601546",
   "metadata": {},
   "outputs": [
    {
     "name": "stdout",
     "output_type": "stream",
     "text": [
      "232\n",
      "200\n",
      "233\n",
      "228\n"
     ]
    }
   ],
   "source": [
    "#Nucleotide count code\n",
    "\n",
    "f = open(\"test\\dnas.txt\", \"r+\")\n",
    "seq = f.read()\n",
    "#seq = \"AGCTTTTCATTCTGACTGCAACGGGCAATATGTCTCTGTGTGGATTAAAAAAAGAGTGTCTGATAGCAGC\"\n",
    "Acount=Gcount=Ccount=Tcount=0\n",
    "for i in seq:\n",
    "    if i == \"A\":\n",
    "        Acount = Acount + 1\n",
    "    if i == \"T\":\n",
    "        Tcount = Tcount + 1\n",
    "    if i == \"G\":\n",
    "        Gcount = Gcount + 1\n",
    "    elif i == \"C\":\n",
    "        Ccount = Ccount + 1\n",
    "Total = Acount + Tcount + Gcount +Ccount\n",
    "#print(Total)\n",
    "print(Acount)\n",
    "print(Ccount)\n",
    "print(Gcount)\n",
    "print(Tcount)\n"
   ]
  },
  {
   "cell_type": "code",
   "execution_count": 11,
   "id": "78ff5124",
   "metadata": {},
   "outputs": [
    {
     "name": "stdout",
     "output_type": "stream",
     "text": [
      "GCCCCAAUGAGCAGCGCUCCCGCGGUUGAAGCGGAGGUUCCAUAAACGGGUGAAAAACUCAUCCGCCCAGACGCCUAGACGAAGAAGACGGACGUUUGCAUCUACUUCCCGGCGCCACACGGGAUGCGUGAGGCCGGUCUACAUCGUCCGAUGUGGUGACAGGCUCGAAUAUUCCAGCGCGUCGCGGGACGCUUGAAAACGUUUGGGCGGUGCUAACUCCGUUCCGAAGUAGAUAGUUUAACCUGUCCUCCACACUUUUACUGCCACGUUAUGGUUCGCACCUUCAAGGGGCCAUGAAGUAGCAUGCACAGCAUCACACAUCCGUUGCCUUAUUACCGAAAGUCGUACAGAACACGACCGUCAAGGUUGCCACUACUCAUCGGUUCUAUCAUAACUGACCGCGGUGUCUACAAUAGAGCACCGGACGGCCAGGGACACCGAUAUCUUAUUAAAGAACUCGUUCCGUGAGUUCUUAUAUUCUACGUACCCUUCGUGUGGCAGUGAAGAUAGUGUAACAACGUAUUUAGUCGUUCAGCCCAGAAUGGCAGGCGGCUUGGAUCAGUACCCAAGAAUUAAGGGGGCGACAAGGUCUGACGAUACCACGUGCUACGCGACCCCAGGGAACGCCCAAGCUAGACAUCACAUGGCAAAUAGGUACUCCUAUUACCUCACUAGAUAGUGAGUGCUGCAGUGAAUGAACAAAUGGACCCUUACGAAGUAUCCGUCAUCUAUCAAAUUCAUAAUCACCAGUCUAGAACUUAGAACCGUACCAGAAGCAACGGCUAGCGUGAUACGGAUGCACAUGAGGUAAGAUGCAAAACAGUAGCUGUCGCGCGCGAAUAGAAAGGUGAUCACUCGCGCGCGGUCUCGCGCGGUGGGUUAACGUUGCAUCUUCACAUGGAAGUGCAUUGCUGGGUUUGGAGCACUGUUAUGGCAGUCAGAGGAUUACGGGCCGAUCUGUUCAUAGCAUACACCUGGGGGUGCUCAGAACA\n",
      "\n"
     ]
    }
   ],
   "source": [
    "#TRANSLATING DNA to RNA\n",
    "\n",
    "f = open(\"test\\dna_to_rna.txt\",\"r+\")\n",
    "seq = f.read()\n",
    "trans = seq.replace(\"T\",\"U\")\n",
    "print(trans)\n"
   ]
  },
  {
   "cell_type": "code",
   "execution_count": 54,
   "id": "68ecf249",
   "metadata": {},
   "outputs": [
    {
     "name": "stdout",
     "output_type": "stream",
     "text": [
      "\n",
      "TTGGTTACGTAGGAACCTTCCCCCCGATGACCTACCCCACGTGATGCAAGACAGTCAATCGTCTTGGCCATTGCATGATATGGTGACGCCGACGACGCTAAAGACGCTTCGCCCTTACATCTTATGAATCAAGAGGGTTCCGTACACCAGATTGTGCGGGACTTAGTTCGCTCCGCTAGTTTCTATCTGTCTTGGATTGCCGGTTATTACTGGACCATGCATCCGTGTCGACTAGGTATCTGTATAGCGATAGGTTCCACTTCGGTAACCACTGACACGGGCTATGTATTACTGTATGGCATACTGGGGGCATGTTCAGCAAGCTCCATACAATTATGCACACAACGAGATTTCAGGGGGGGTTGTACCGTTTTTATCAGGCAGGGACCAGGCGTGTTGTATCCCCCATATATGATCCTGTAGCGAAATTTGTGGGCTTTTCGGTTTCCAGGGCAGACTTGGTTCGACAACATTAGCTCCGCGGCGCAATTTGAGTCTCAGGTTATCCTTAATACAAAACGTATGGCCCCTAAGTTTAAAGAAGGGAAGAAAGCGTTAGACAATGGACCTCGTCAGAACCCCTATAGATTATCATGGTCGAGGAACGGGTGTGCTAACGGGAAGGATCCGGTAGCTCAGCAGTCGAAGATCTTGCTATCTATCTTTCTGGACTTTTTTATCGTAGGAGGCCGCATCAGACGGGATTCCTACACCGATTCGAAGCCAAAGATCAGCCGAGTGATACGCACTCGGGCTTACCGCACATGACTAATGATACGTAAGATTGTTTAAGCAAGGGCCAACAGAGTCCCTGTTATGGTGGCGTAGCTAGAAAGAGTAGCAGCATCTAGGGGTGCGTCCTCGATGTTCGGCTCAGTTGTACGGTTTCACCGGACGAGCATCTTCCATTTATACCGTAAGCCGGTCAGTCTTGCGCCTCGACTCTGTGATCTCGCGCTATGTCAGCTATTACCGGACCTCAAGGTTTGCAGCCTTG"
     ]
    }
   ],
   "source": [
    "#COMPLEMENT SEQUENCE\n",
    "\n",
    "#BASH COMMANDS\n",
    "$ cat rosalind2.txt | tr 'ACGT' 'TGCA' | rev\n",
    "\n",
    "Even shorter\n",
    "rev r.txt | tr ATCG TAGC\n",
    "\n",
    "For multi-line sequences\n",
    "tr -d \"\\n\" < r.txt| rev  | tr ATCG TAGC\n",
    "\n",
    "For FASTA files\n",
    "grep -v \"^>\" r.fasta | tr -d \"\\n\"  | rev  | tr ATCG TAGC\n",
    "\n",
    "\n",
    "#PYTHON\n",
    "\n",
    "f = open(\"test/rosalind_revc_.txt\", \"r+\")\n",
    "seq = f.read()\n",
    "#seq=\"CTATGCTG\"\n",
    "p = seq[::-1]\n",
    "for i in p:\n",
    "    if i == \"A\":\n",
    "        comp = i.replace(\"A\",\"T\")\n",
    "    elif i == \"T\":\n",
    "        comp = i.replace(\"T\",\"A\")\n",
    "    elif i == \"G\":\n",
    "        comp = i.replace(\"G\",\"C\")\n",
    "    else:\n",
    "        comp = i.replace(\"C\",\"G\")\n",
    "    #print (i)\n",
    "    print(comp,end=\"\")        \n"
   ]
  },
  {
   "cell_type": "code",
   "execution_count": null,
   "id": "a5daf368",
   "metadata": {},
   "outputs": [],
   "source": []
  }
 ],
 "metadata": {
  "kernelspec": {
   "display_name": "Python 3",
   "language": "python",
   "name": "python3"
  },
  "language_info": {
   "codemirror_mode": {
    "name": "ipython",
    "version": 3
   },
   "file_extension": ".py",
   "mimetype": "text/x-python",
   "name": "python",
   "nbconvert_exporter": "python",
   "pygments_lexer": "ipython3",
   "version": "3.8.8"
  }
 },
 "nbformat": 4,
 "nbformat_minor": 5
}
